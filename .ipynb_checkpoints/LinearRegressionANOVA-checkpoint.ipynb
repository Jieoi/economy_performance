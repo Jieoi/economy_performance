{
 "cells": [
  {
   "cell_type": "code",
   "execution_count": null,
   "metadata": {},
   "outputs": [],
   "source": [
    "import pandas as pd\n",
    "import seaborn as sns\n",
    "\n",
    "# Read the CSV file into a DataFrame\n",
    "df = pd.read_csv('data.csv')\n",
    "df_sg = df"
   ]
  },
  {
   "cell_type": "markdown",
   "metadata": {},
   "source": [
    "**SINGAPORE**"
   ]
  },
  {
   "cell_type": "code",
   "execution_count": null,
   "metadata": {},
   "outputs": [],
   "source": [
    "import matplotlib.pyplot as plt\n",
    "import numpy as np\n",
    "\n",
    "# Assuming 'df' contains your data and 'Year' and 'Net trade in goods and services' columns exist\n",
    "\n",
    "# Create the bar plot\n",
    "plt.figure(figsize=(12, 6))\n",
    "plt.bar(df['Year'], df['Net trade in goods and services (BoP, current US$)'])\n",
    "\n",
    "# Customize the plot\n",
    "plt.title('Net Trade in Goods and Services by Year in Singapore')\n",
    "plt.xlabel('Year')\n",
    "plt.ylabel('Net Trade (BoP, current US$)')\n",
    "plt.xticks(rotation=45)\n",
    "\n",
    "# Add grid lines for better readability\n",
    "plt.grid(axis='y', linestyle='--', alpha=0.7)\n",
    "\n",
    "# Add a trendline\n",
    "# Extract data for the trendline\n",
    "x = df['Year']\n",
    "y = df['Net trade in goods and services (BoP, current US$)']\n",
    "\n",
    "# Fit a linear regression line (1st-degree polynomial)\n",
    "z = np.polyfit(x, y, 1)\n",
    "p = np.poly1d(z)\n",
    "\n",
    "# Plot the trendline\n",
    "plt.plot(x, p(x), color='red', linestyle='--', label='Trendline')\n",
    "\n",
    "# Add a legend for the trendline\n",
    "plt.legend()\n",
    "\n",
    "# Adjust layout and display the plot\n",
    "plt.tight_layout()\n",
    "plt.show()\n",
    "\n",
    "import statsmodels.api as sm\n",
    "\n",
    "# Define your independent and dependent variables\n",
    "X_year = df[['Year']]  # Independent variable (Year)\n",
    "y = df['Net trade in goods and services (BoP, current US$)']  # Dependent variable (Net trade)\n",
    "\n",
    "# Add a constant (intercept) to the independent variable\n",
    "X_year = sm.add_constant(X_year)\n",
    "\n",
    "# Fit the regression model\n",
    "model_year = sm.OLS(y, X_year).fit()\n",
    "\n",
    "# Print the summary to check the significance of 'Year'\n",
    "print(model_year.summary())"
   ]
  },
  {
   "cell_type": "markdown",
   "metadata": {},
   "source": [
    "The P value is 0 < 0.05, which indicates that the relationship between year and net trade statistically significant. It shows a positive trend for Net trade over time."
   ]
  },
  {
   "cell_type": "code",
   "execution_count": null,
   "metadata": {},
   "outputs": [],
   "source": [
    "import statsmodels.api as sm\n",
    "\n",
    "# Create the bar plot\n",
    "plt.figure(figsize=(12, 6))\n",
    "plt.bar(df['Year'], df['Total_rnd'])\n",
    "\n",
    "# Customize the plot\n",
    "plt.title('Total R&D Expenditure by Year')\n",
    "plt.xlabel('Year')\n",
    "plt.ylabel('RND Expenditure')\n",
    "plt.xticks(rotation=45)\n",
    "\n",
    "# Add grid lines for better readability\n",
    "plt.grid(axis='y', linestyle='--', alpha=0.7)\n",
    "\n",
    "# Add a trendline\n",
    "# Extract data for the trendline\n",
    "x = df['Year']\n",
    "y = df['Total_rnd']\n",
    "\n",
    "# Fit a linear regression line (1st-degree polynomial)\n",
    "z = np.polyfit(x, y, 1)\n",
    "p = np.poly1d(z)\n",
    "\n",
    "# Plot the trendline\n",
    "plt.plot(x, p(x), color='red', linestyle='--', label='Trendline')\n",
    "\n",
    "# Add a legend for the trendline\n",
    "plt.legend()\n",
    "\n",
    "# Adjust layout and display the plot\n",
    "plt.tight_layout()\n",
    "plt.show()\n",
    "\n",
    "# Assuming 'df' is your dataframe and it has 'Total_rnd' and 'Year' columns\n",
    "X = df['Year']\n",
    "y = df['Total_rnd']\n",
    "\n",
    "# Add a constant to the model (for the intercept term)\n",
    "X = sm.add_constant(X)\n",
    "\n",
    "# Fit the OLS model\n",
    "model = sm.OLS(y, X).fit()\n",
    "\n",
    "# Print out the results\n",
    "print(model.summary())\n"
   ]
  },
  {
   "cell_type": "markdown",
   "metadata": {},
   "source": [
    "The P value is 0 < 0.05, indicating that the relationship of total rnd and time is statistically significant. It shows a positive trend over time."
   ]
  },
  {
   "cell_type": "code",
   "execution_count": null,
   "metadata": {},
   "outputs": [],
   "source": [
    "import statsmodels.api as sm\n",
    "\n",
    "# Create the bar plot\n",
    "plt.figure(figsize=(12, 6))\n",
    "plt.bar(df['Year'], df['Net financial account (BoP, current US$)'])\n",
    "\n",
    "# Customize the plot\n",
    "plt.title('Total Net Financial Account (BoP, current US$)')\n",
    "plt.xlabel('Year')\n",
    "plt.ylabel('Net financial account (BoP, current US$)')\n",
    "plt.xticks(rotation=45)\n",
    "\n",
    "# Add grid lines for better readability\n",
    "plt.grid(axis='y', linestyle='--', alpha=0.7)\n",
    "\n",
    "# Add a trendline\n",
    "# Extract data for the trendline\n",
    "x = df['Year']\n",
    "y = df['Net financial account (BoP, current US$)']\n",
    "\n",
    "# Fit a linear regression line (1st-degree polynomial)\n",
    "z = np.polyfit(x, y, 1)\n",
    "p = np.poly1d(z)\n",
    "\n",
    "# Plot the trendline\n",
    "plt.plot(x, p(x), color='red', linestyle='--', label='Trendline')\n",
    "\n",
    "# Add a legend for the trendline\n",
    "plt.legend()\n",
    "\n",
    "# Adjust layout and display the plot\n",
    "plt.tight_layout()\n",
    "plt.show()\n",
    "\n",
    "\n",
    "# Assuming df contains 'Net financial account' and 'Year' as columns\n",
    "X = df['Year']\n",
    "y = df['Net financial account (BoP, current US$)']\n",
    "\n",
    "# Add a constant to the predictor variable (intercept)\n",
    "X = sm.add_constant(X)\n",
    "\n",
    "# Fit the OLS model\n",
    "model = sm.OLS(y, X).fit()\n",
    "\n",
    "# Print the OLS regression results\n",
    "print(model.summary())"
   ]
  },
  {
   "cell_type": "markdown",
   "metadata": {},
   "source": [
    "The P value is 0.002 < 0.05, indicating that the relationship of net_financial account and time is statistically significant. It shows positive trend over time."
   ]
  },
  {
   "cell_type": "code",
   "execution_count": null,
   "metadata": {},
   "outputs": [],
   "source": [
    "import seaborn as sns\n",
    "import matplotlib.pyplot as plt\n",
    "\n",
    "print('Model without Time factor')\n",
    "# Scatter plot with regression line for Total_rnd\n",
    "sns.regplot(x='Total_rnd', y='Net trade in goods and services (BoP, current US$)', data=df)\n",
    "plt.title('Total R&D vs Net Trade with Regression Line')\n",
    "plt.show()\n",
    "\n",
    "# Scatter plot with regression line for Net financial account\n",
    "sns.regplot(x='Net financial account (BoP, current US$)', y='Net trade in goods and services (BoP, current US$)', data=df)\n",
    "plt.title('Net Financial Account vs Net Trade with Regression Line')\n",
    "plt.show()\n",
    "\n",
    "import statsmodels.api as sm\n",
    "\n",
    "# Prepare the dependent (y) and independent variables (X)\n",
    "X = df[['Total_rnd', 'Net financial account (BoP, current US$)']]  # Independent variables\n",
    "y = df['Net trade in goods and services (BoP, current US$)']  # Dependent variable\n",
    "\n",
    "# Add a constant to the independent variables (intercept term)\n",
    "X = sm.add_constant(X)\n",
    "\n",
    "# Fit the multiple linear regression model\n",
    "model = sm.OLS(y, X).fit()\n",
    "\n",
    "# Print the regression results summary\n",
    "print(model.summary())\n"
   ]
  },
  {
   "cell_type": "markdown",
   "metadata": {},
   "source": [
    "**Summary:** \\\n",
    "The model fits the data well, explaining 92.9% of the variance in net trade.\n",
    "Both Total_rnd and Net financial account (BoP) are statistically significant predictors of Net trade in goods and services.\n",
    "Some multicollinearity may exist between the predictors, but overall, the model appears valid with normally distributed residuals."
   ]
  },
  {
   "cell_type": "code",
   "execution_count": null,
   "metadata": {},
   "outputs": [],
   "source": [
    "import statsmodels.api as sm\n",
    "\n",
    "print('Model with Time as factor')\n",
    "# Including Year as a predictor\n",
    "X_with_time = sm.add_constant(df[['Total_rnd', 'Net financial account (BoP, current US$)', 'Year']])\n",
    "y = df['Net trade in goods and services (BoP, current US$)']\n",
    "\n",
    "# Fit the new model\n",
    "model_with_time_sg = sm.OLS(y, X_with_time).fit()\n",
    "\n",
    "# Print summary\n",
    "print(model_with_time_sg.summary())\n",
    "\n",
    "# Compare R-squared, Adjusted R-squared, and coefficients"
   ]
  },
  {
   "cell_type": "markdown",
   "metadata": {},
   "source": [
    "**Statistical Significance:** \\\n",
    "P-values: \\\n",
    "Total_rnd (0.166): Not significant, meaning we cannot conclude that total R&D has a meaningful impact on net trade.\n",
    "Net financial account (0.006): Significant, indicating a strong relationship with net trade.\n",
    "Year (0.342): Not significant, meaning time alone may not explain changes in net trade when controlling for R&D and the financial account.\n",
    "\n",
    "\\\n",
    "**Conclusion:** \\\n",
    "By including the Year variable, you can see how it interacts with the other predictors in affecting Net trade. The non-significance of the Year variable suggests that the effect of time is minimal when controlling for Total_rnd and Net financial account. The strong significance of the Net financial account suggests that it plays a crucial role in determining net trade, while Total_rnd does not show a statistically significant impact in this model context\n"
   ]
  },
  {
   "cell_type": "markdown",
   "metadata": {},
   "source": [
    "**ANOVA** \\\n",
    "We will compare the two models Net_trade vs Time to Net_trade vs Time + Total_rnd + Net_financial_account."
   ]
  },
  {
   "cell_type": "code",
   "execution_count": null,
   "metadata": {},
   "outputs": [],
   "source": [
    "import statsmodels.api as sm\n",
    "from statsmodels.formula.api import ols\n",
    "import pandas as pd\n",
    "\n",
    "# Assuming df is your DataFrame and has the columns 'Net_trade', 'Total_rnd', 'Net_financial_account', and 'Year'\n",
    "df.rename(columns={\n",
    "    'Net trade in goods and services (BoP, current US$)': 'Net_trade_in_goods_and_services',\n",
    "    'Net financial account (BoP, current US$)': 'Net_financial_account'\n",
    "}, inplace=True)\n",
    "\n",
    "# Fit the reduced model with only the Year variable\n",
    "model1 = ols('Net_trade_in_goods_and_services ~ Year', data=df).fit()\n",
    "\n",
    "# Fit the full model with Year, Total_rnd, and Net_financial_account\n",
    "model2 = ols('Net_trade_in_goods_and_services ~ Year + Total_rnd + Net_financial_account', data=df).fit()\n",
    "\n",
    "# Perform ANOVA\n",
    "anova_results = sm.stats.anova_lm(model1, model2)\n",
    "\n",
    "print(anova_results)"
   ]
  },
  {
   "cell_type": "markdown",
   "metadata": {},
   "source": [
    "Pr(>F): The p-value associated with the F-statistic. \\\n",
    "\n",
    "In this case, the p-value is \n",
    "0.016039 which is below the threshold of \n",
    "0.05. This indicates that adding Total_rnd and Net_financial_account to the model significantly improves the model's fit compared to using only Year."
   ]
  },
  {
   "cell_type": "markdown",
   "metadata": {},
   "source": [
    "**Conclusion** \\\n",
    "The significant p-value indicates that Total_rnd and Net_financial_account add explanatory power to the model, and you can conclude that these variables are likely contributing to variations in Net_trade_in_goods_and_services, beyond the effect of Year."
   ]
  },
  {
   "cell_type": "markdown",
   "metadata": {},
   "source": [
    "**JAPAN**"
   ]
  },
  {
   "cell_type": "code",
   "execution_count": null,
   "metadata": {},
   "outputs": [],
   "source": [
    "df = pd.read_excel('Japan_Data_2007_2021.xlsx')\n",
    "df_jp = df"
   ]
  },
  {
   "cell_type": "code",
   "execution_count": null,
   "metadata": {},
   "outputs": [],
   "source": [
    "# Create the bar plot\n",
    "plt.figure(figsize=(12, 6))\n",
    "plt.bar(df['Year'], df['Net trade in goods and services (BoP, current US$)'])\n",
    "\n",
    "# Customize the plot\n",
    "plt.title('Net Trade in Goods and Services by Year in Japan')\n",
    "plt.xlabel('Year')\n",
    "plt.ylabel('Net Trade (BoP, current US$)')\n",
    "plt.xticks(rotation=45)\n",
    "\n",
    "# Add grid lines for better readability\n",
    "plt.grid(axis='y', linestyle='--', alpha=0.7)\n",
    "\n",
    "# Add a trendline\n",
    "# Extract data for the trendline\n",
    "x = df['Year']\n",
    "y = df['Net trade in goods and services (BoP, current US$)']\n",
    "\n",
    "# Fit a linear regression line (1st-degree polynomial)\n",
    "z = np.polyfit(x, y, 1)\n",
    "p = np.poly1d(z)\n",
    "\n",
    "# Plot the trendline\n",
    "plt.plot(x, p(x), color='red', linestyle='--', label='Trendline')\n",
    "\n",
    "# Add a legend for the trendline\n",
    "plt.legend()\n",
    "\n",
    "# Adjust layout and display the plot\n",
    "plt.tight_layout()\n",
    "plt.show()\n",
    "\n",
    "import statsmodels.api as sm\n",
    "\n",
    "# Define your independent and dependent variables\n",
    "X_year = df[['Year']]  # Independent variable (Year)\n",
    "y = df['Net trade in goods and services (BoP, current US$)']  # Dependent variable (Net trade)\n",
    "\n",
    "# Add a constant (intercept) to the independent variable\n",
    "X_year = sm.add_constant(X_year)\n",
    "\n",
    "# Fit the regression model\n",
    "model_year = sm.OLS(y, X_year).fit()\n",
    "\n",
    "# Print the summary to check the significance of 'Year'\n",
    "print(model_year.summary())"
   ]
  },
  {
   "cell_type": "markdown",
   "metadata": {},
   "source": [
    "The P value is 0.522 > 0.05, indicating that the relationship of net trade in goods and services and time is not statistically significant."
   ]
  },
  {
   "cell_type": "code",
   "execution_count": null,
   "metadata": {},
   "outputs": [],
   "source": [
    "# Create the bar plot\n",
    "plt.figure(figsize=(12, 6))\n",
    "plt.bar(df['Year'], df['RND_Expenditure'])\n",
    "\n",
    "# Customize the plot\n",
    "plt.title('Total R&D Expenditure by Year in Japan')\n",
    "plt.xlabel('Year')\n",
    "plt.ylabel('RND Expenditure')\n",
    "plt.xticks(rotation=45)\n",
    "\n",
    "# Add grid lines for better readability\n",
    "plt.grid(axis='y', linestyle='--', alpha=0.7)\n",
    "\n",
    "# Add a trendline\n",
    "# Extract data for the trendline\n",
    "x = df['Year']\n",
    "y = df['RND_Expenditure']\n",
    "\n",
    "# Fit a linear regression line (1st-degree polynomial)\n",
    "z = np.polyfit(x, y, 1)\n",
    "p = np.poly1d(z)\n",
    "\n",
    "# Plot the trendline\n",
    "plt.plot(x, p(x), color='red', linestyle='--', label='Trendline')\n",
    "\n",
    "# Add a legend for the trendline\n",
    "plt.legend()\n",
    "\n",
    "# Adjust layout and display the plot\n",
    "plt.tight_layout()\n",
    "plt.show()\n",
    "\n",
    "# Assuming 'df' is your dataframe and it has 'Total_rnd' and 'Year' columns\n",
    "X = df['Year']\n",
    "y = df['RND_Expenditure']\n",
    "\n",
    "# Add a constant to the model (for the intercept term)\n",
    "X = sm.add_constant(X)\n",
    "\n",
    "# Fit the OLS model\n",
    "model = sm.OLS(y, X).fit()\n",
    "\n",
    "# Print out the results\n",
    "print(model.summary())\n"
   ]
  },
  {
   "cell_type": "markdown",
   "metadata": {},
   "source": [
    "The P value is 0.469 > 0.05, indicating that the relationship between RND expenditure and time is not statistically significant."
   ]
  },
  {
   "cell_type": "code",
   "execution_count": null,
   "metadata": {},
   "outputs": [],
   "source": [
    "# Create the bar plot\n",
    "plt.figure(figsize=(12, 6))\n",
    "plt.bar(df['Year'], df['Net financial account (BoP, current US$)'])\n",
    "\n",
    "# Customize the plot\n",
    "plt.title('Total Net Financial Account (BoP, current US$) in Japan')\n",
    "plt.xlabel('Year')\n",
    "plt.ylabel('Net financial account (BoP, current US$)')\n",
    "plt.xticks(rotation=45)\n",
    "\n",
    "# Add grid lines for better readability\n",
    "plt.grid(axis='y', linestyle='--', alpha=0.7)\n",
    "\n",
    "# Add a trendline\n",
    "# Extract data for the trendline\n",
    "x = df['Year']\n",
    "y = df['Net financial account (BoP, current US$)']\n",
    "\n",
    "# Fit a linear regression line (1st-degree polynomial)\n",
    "z = np.polyfit(x, y, 1)\n",
    "p = np.poly1d(z)\n",
    "\n",
    "# Plot the trendline\n",
    "plt.plot(x, p(x), color='red', linestyle='--', label='Trendline')\n",
    "\n",
    "# Add a legend for the trendline\n",
    "plt.legend()\n",
    "\n",
    "# Adjust layout and display the plot\n",
    "plt.tight_layout()\n",
    "plt.show()\n",
    "\n",
    "\n",
    "# Assuming df contains 'Net financial account' and 'Year' as columns\n",
    "X = df['Year']\n",
    "y = df['Net financial account (BoP, current US$)']\n",
    "\n",
    "# Add a constant to the predictor variable (intercept)\n",
    "X = sm.add_constant(X)\n",
    "\n",
    "# Fit the OLS model\n",
    "model = sm.OLS(y, X).fit()\n",
    "\n",
    "# Print the OLS regression results\n",
    "print(model.summary())"
   ]
  },
  {
   "cell_type": "markdown",
   "metadata": {},
   "source": [
    "The P value is 0.944 which is < 0.05, indicating that the relationship of net financial account and time is not statistically significant."
   ]
  },
  {
   "cell_type": "code",
   "execution_count": null,
   "metadata": {},
   "outputs": [],
   "source": [
    "print('Model without Time factor')\n",
    "# Scatter plot with regression line for Total_rnd\n",
    "sns.regplot(x='RND_Expenditure', y='Net trade in goods and services (BoP, current US$)', data=df)\n",
    "plt.title('Total R&D vs Net Trade with Regression Line')\n",
    "plt.show()\n",
    "\n",
    "# Scatter plot with regression line for Net financial account\n",
    "sns.regplot(x='Net financial account (BoP, current US$)', y='Net trade in goods and services (BoP, current US$)', data=df)\n",
    "plt.title('Net Financial Account vs Net Trade with Regression Line')\n",
    "plt.show()\n",
    "\n",
    "import statsmodels.api as sm\n",
    "\n",
    "# Prepare the dependent (y) and independent variables (X)\n",
    "X = df[['RND_Expenditure', 'Net financial account (BoP, current US$)']]  # Independent variables\n",
    "y = df['Net trade in goods and services (BoP, current US$)']  # Dependent variable\n",
    "\n",
    "# Add a constant to the independent variables (intercept term)\n",
    "X = sm.add_constant(X)\n",
    "\n",
    "# Fit the multiple linear regression model\n",
    "model = sm.OLS(y, X).fit()\n",
    "\n",
    "# Print the regression results summary\n",
    "print(model.summary())\n"
   ]
  },
  {
   "cell_type": "markdown",
   "metadata": {},
   "source": [
    "The R-squared value is 0.791 indicating a strong fit for the above model. While the RND expenditure has a P-value of 0.744 > 0.05 indicating not statistically significant in the relationship with Net trade, the Net financial account has a P-value of 0 < 0.05 indicating a statistically significant relationship with Net trade. In summary, Net Financial Account appears to be a significant predictor of net trade in goods and services, while R&D Expenditure does not show a meaningful contribution in this specific dataset."
   ]
  },
  {
   "cell_type": "code",
   "execution_count": null,
   "metadata": {},
   "outputs": [],
   "source": [
    "import statsmodels.api as sm\n",
    "\n",
    "print('Model with Time as factor')\n",
    "# Including Year as a predictor\n",
    "X_with_time = sm.add_constant(df[['RND_Expenditure', 'Net financial account (BoP, current US$)', 'Year']])\n",
    "y = df['Net trade in goods and services (BoP, current US$)']\n",
    "\n",
    "# Fit the new model\n",
    "model_with_time_jp = sm.OLS(y, X_with_time).fit()\n",
    "\n",
    "# Print summary\n",
    "print(model_with_time_jp.summary())\n",
    "\n",
    "# Compare R-squared, Adjusted R-squared, and coefficients"
   ]
  },
  {
   "cell_type": "markdown",
   "metadata": {},
   "source": [
    "**Statistical Significance:** \\\n",
    "P-values: \\\n",
    "RND Expenditure (0.533): Not significant, meaning we cannot conclude that total R&D has a meaningful impact on net trade.\n",
    "Net financial account (0.000): Significant, indicating a strong relationship with net trade.\n",
    "Year (0.193): Not significant, meaning time alone may not explain changes in net trade when controlling for R&D and the financial account.\n",
    "\n",
    "\\\n",
    "**Conclusion:** \\\n",
    "By including the Year variable, you can see how it interacts with the other predictors in affecting Net trade. The non-significance of the Year variable suggests that the effect of time is minimal when controlling for RND Expenditure and Net financial account. The strong significance of the Net financial account suggests that it plays a crucial role in determining net trade, while RND Expenditure does not show a statistically significant impact in this model context\n"
   ]
  },
  {
   "cell_type": "markdown",
   "metadata": {},
   "source": [
    "**ANOVA** \\\n",
    "We will compare the two models Net_trade vs Time to Net_trade vs Time + Total_rnd + Net_financial_account."
   ]
  },
  {
   "cell_type": "code",
   "execution_count": null,
   "metadata": {},
   "outputs": [],
   "source": [
    "import statsmodels.api as sm\n",
    "from statsmodels.formula.api import ols\n",
    "import pandas as pd\n",
    "\n",
    "# Assuming df is your DataFrame and has the columns 'Net_trade', 'Total_rnd', 'Net_financial_account', and 'Year'\n",
    "df.rename(columns={\n",
    "    'Net trade in goods and services (BoP, current US$)': 'Net_trade_in_goods_and_services',\n",
    "    'Net financial account (BoP, current US$)': 'Net_financial_account'\n",
    "}, inplace=True)\n",
    "\n",
    "# Fit the reduced model with only the Year variable\n",
    "model1 = ols('Net_trade_in_goods_and_services ~ Year', data=df).fit()\n",
    "\n",
    "# Fit the full model with Year, Total_rnd, and Net_financial_account\n",
    "model2 = ols('Net_trade_in_goods_and_services ~ Year + RND_Expenditure + Net_financial_account', data=df).fit()\n",
    "\n",
    "# Perform ANOVA\n",
    "anova_results = sm.stats.anova_lm(model1, model2)\n",
    "\n",
    "print(anova_results)"
   ]
  },
  {
   "cell_type": "markdown",
   "metadata": {},
   "source": [
    "The p-value 0.000089 < 0.05 is very low, indicating that adding RND expenditure and net financial account variables significantly improves the model’s fit, as the probability of this improvement being due to chance is extremely low.\n",
    "The ANOVA suggests that Net Financial Account and R&D Expenditure add significant explanatory power to the model, as the reduced residual error and high F-statistic demonstrate that Model 2 better explains the variation in Net Trade in Goods and Services."
   ]
  },
  {
   "cell_type": "markdown",
   "metadata": {},
   "source": [
    "**HONG KONG**"
   ]
  },
  {
   "cell_type": "markdown",
   "metadata": {},
   "source": [
    "The P value is 0.091 > 0.05. This shows that the years do not have a significant effect on the Net trade."
   ]
  },
  {
   "cell_type": "code",
   "execution_count": null,
   "metadata": {},
   "outputs": [],
   "source": [
    "df = pd.read_excel('HongKong_Data_2007_2021.xlsx')\n",
    "df_hk = df"
   ]
  },
  {
   "cell_type": "code",
   "execution_count": null,
   "metadata": {},
   "outputs": [],
   "source": [
    "# Create the bar plot\n",
    "plt.figure(figsize=(12, 6))\n",
    "plt.bar(df['Year'], df['Net trade in goods and services (BoP, current US$)'])\n",
    "\n",
    "# Customize the plot\n",
    "plt.title('Net Trade in Goods and Services by Year in Hong Kong')\n",
    "plt.xlabel('Year')\n",
    "plt.ylabel('Net Trade (BoP, current US$)')\n",
    "plt.xticks(rotation=45)\n",
    "\n",
    "# Add grid lines for better readability\n",
    "plt.grid(axis='y', linestyle='--', alpha=0.7)\n",
    "\n",
    "# Add a trendline\n",
    "# Extract data for the trendline\n",
    "x = df['Year']\n",
    "y = df['Net trade in goods and services (BoP, current US$)']\n",
    "\n",
    "# Fit a linear regression line (1st-degree polynomial)\n",
    "z = np.polyfit(x, y, 1)\n",
    "p = np.poly1d(z)\n",
    "\n",
    "# Plot the trendline\n",
    "plt.plot(x, p(x), color='red', linestyle='--', label='Trendline')\n",
    "\n",
    "# Add a legend for the trendline\n",
    "plt.legend()\n",
    "\n",
    "# Adjust layout and display the plot\n",
    "plt.tight_layout()\n",
    "plt.show()\n",
    "\n",
    "# Define your independent and dependent variables\n",
    "X_year = df[['Year']]  # Independent variable (Year)\n",
    "y = df['Net trade in goods and services (BoP, current US$)']  # Dependent variable (Net trade)\n",
    "\n",
    "# Add a constant (intercept) to the independent variable\n",
    "X_year = sm.add_constant(X_year)\n",
    "\n",
    "# Fit the regression model\n",
    "model_year = sm.OLS(y, X_year).fit()\n",
    "\n",
    "# Print the summary to check the significance of 'Year'\n",
    "print(model_year.summary())"
   ]
  },
  {
   "cell_type": "markdown",
   "metadata": {},
   "source": [
    "The P value is 0.091 > 0.05. This shows that the years do not have a significant effect on the Net trade."
   ]
  },
  {
   "cell_type": "code",
   "execution_count": null,
   "metadata": {},
   "outputs": [],
   "source": [
    "# Create the bar plot\n",
    "plt.figure(figsize=(12, 6))\n",
    "plt.bar(df['Year'], df['R&D expenditure(USD,million)'])\n",
    "\n",
    "# Customize the plot\n",
    "plt.title('Total R&D Expenditure by Year in Hong Kong')\n",
    "plt.xlabel('Year')\n",
    "plt.ylabel('RND Expenditure')\n",
    "plt.xticks(rotation=45)\n",
    "\n",
    "# Add grid lines for better readability\n",
    "plt.grid(axis='y', linestyle='--', alpha=0.7)\n",
    "\n",
    "# Add a trendline\n",
    "# Extract data for the trendline\n",
    "x = df['Year']\n",
    "y = df['R&D expenditure(USD,million)']\n",
    "\n",
    "# Fit a linear regression line (1st-degree polynomial)\n",
    "z = np.polyfit(x, y, 1)\n",
    "p = np.poly1d(z)\n",
    "\n",
    "# Plot the trendline\n",
    "plt.plot(x, p(x), color='red', linestyle='--', label='Trendline')\n",
    "\n",
    "# Add a legend for the trendline\n",
    "plt.legend()\n",
    "\n",
    "# Adjust layout and display the plot\n",
    "plt.tight_layout()\n",
    "plt.show()\n",
    "\n",
    "# Assuming 'df' is your dataframe and it has 'Total_rnd' and 'Year' columns\n",
    "X = df['Year']\n",
    "y = df['R&D expenditure(USD,million)']\n",
    "\n",
    "# Add a constant to the model (for the intercept term)\n",
    "X = sm.add_constant(X)\n",
    "\n",
    "# Fit the OLS model\n",
    "model = sm.OLS(y, X).fit()\n",
    "\n",
    "# Print out the results\n",
    "print(model.summary())\n"
   ]
  },
  {
   "cell_type": "markdown",
   "metadata": {},
   "source": [
    "The P value is 0 which is < 0.05, indicating that the relationship of total RND expenditure and time is statistically significant. It shows a positive trend over time."
   ]
  },
  {
   "cell_type": "code",
   "execution_count": null,
   "metadata": {},
   "outputs": [],
   "source": [
    "# Create the bar plot\n",
    "plt.figure(figsize=(12, 6))\n",
    "plt.bar(df['Year'], df['Net financial account (BoP, current US$)'])\n",
    "\n",
    "# Customize the plot\n",
    "plt.title('Total Net Financial Account (BoP, current US$) in Hong Kong')\n",
    "plt.xlabel('Year')\n",
    "plt.ylabel('Net financial account (BoP, current US$)')\n",
    "plt.xticks(rotation=45)\n",
    "\n",
    "# Add grid lines for better readability\n",
    "plt.grid(axis='y', linestyle='--', alpha=0.7)\n",
    "\n",
    "# Add a trendline\n",
    "# Extract data for the trendline\n",
    "x = df['Year']\n",
    "y = df['Net financial account (BoP, current US$)']\n",
    "\n",
    "# Fit a linear regression line (1st-degree polynomial)\n",
    "z = np.polyfit(x, y, 1)\n",
    "p = np.poly1d(z)\n",
    "\n",
    "# Plot the trendline\n",
    "plt.plot(x, p(x), color='red', linestyle='--', label='Trendline')\n",
    "\n",
    "# Add a legend for the trendline\n",
    "plt.legend()\n",
    "\n",
    "# Adjust layout and display the plot\n",
    "plt.tight_layout()\n",
    "plt.show()\n",
    "\n",
    "\n",
    "# Assuming df contains 'Net financial account' and 'Year' as columns\n",
    "X = df['Year']\n",
    "y = df['Net financial account (BoP, current US$)']\n",
    "\n",
    "# Add a constant to the predictor variable (intercept)\n",
    "X = sm.add_constant(X)\n",
    "\n",
    "# Fit the OLS model\n",
    "model = sm.OLS(y, X).fit()\n",
    "\n",
    "# Print the OLS regression results\n",
    "print(model.summary())"
   ]
  },
  {
   "cell_type": "markdown",
   "metadata": {},
   "source": [
    "The P value is 0.338 > 0.05. This shows that the years do not have a significant effect on the Net financial account."
   ]
  },
  {
   "cell_type": "code",
   "execution_count": null,
   "metadata": {},
   "outputs": [],
   "source": [
    "print('Model without Time factor')\n",
    "# Scatter plot with regression line for Total_rnd\n",
    "sns.regplot(x='R&D expenditure(USD,million)', y='Net trade in goods and services (BoP, current US$)', data=df)\n",
    "plt.title('Total R&D vs Net Trade with Regression Line')\n",
    "plt.show()\n",
    "\n",
    "# Scatter plot with regression line for Net financial account\n",
    "sns.regplot(x='Net financial account (BoP, current US$)', y='Net trade in goods and services (BoP, current US$)', data=df)\n",
    "plt.title('Net Financial Account vs Net Trade with Regression Line')\n",
    "plt.show()\n",
    "\n",
    "import statsmodels.api as sm\n",
    "\n",
    "# Prepare the dependent (y) and independent variables (X)\n",
    "X = df[['R&D expenditure(USD,million)', 'Net financial account (BoP, current US$)']]  # Independent variables\n",
    "y = df['Net trade in goods and services (BoP, current US$)']  # Dependent variable\n",
    "\n",
    "# Add a constant to the independent variables (intercept term)\n",
    "X = sm.add_constant(X)\n",
    "\n",
    "# Fit the multiple linear regression model\n",
    "model = sm.OLS(y, X).fit()\n",
    "\n",
    "# Print the regression results summary\n",
    "print(model.summary())\n"
   ]
  },
  {
   "cell_type": "markdown",
   "metadata": {},
   "source": [
    "The P value for both RND expenditure and Net financial acocunt is 0 < 0.05 indicating that it is statistically significant. the R-squared value is 0.827 showing strong relationship between the variables. It shows that RND expenditure has a negative correlation with the Net trade whereas the Net financial account has a positive correlation with the Net trade."
   ]
  },
  {
   "cell_type": "code",
   "execution_count": null,
   "metadata": {},
   "outputs": [],
   "source": [
    "import statsmodels.api as sm\n",
    "\n",
    "print('Model with Time as factor')\n",
    "# Including Year as a predictor\n",
    "X_with_time = sm.add_constant(df[['R&D expenditure(USD,million)', 'Net financial account (BoP, current US$)', 'Year']])\n",
    "y = df['Net trade in goods and services (BoP, current US$)']\n",
    "\n",
    "# Fit the new model\n",
    "model_with_time_hk = sm.OLS(y, X_with_time).fit()\n",
    "\n",
    "# Print summary\n",
    "print(model_with_time_hk.summary())\n",
    "\n",
    "# Compare R-squared, Adjusted R-squared, and coefficients"
   ]
  },
  {
   "cell_type": "markdown",
   "metadata": {},
   "source": [
    "The R-squared is 0.830, indicating that 83.0% of the variation in the Net trade in goods and services is explained by the independent variables. This shows a strong fit for the model. Only the Net financial account has a p value of 0.001 < 0.05 indicating that it is statistically significant as compared to RND expenditure of 0.24 and year of 0.666. Net financial account (BoP) is the only variable that shows a strong, positive, and statistically significant effect on the Net trade in goods and services."
   ]
  },
  {
   "cell_type": "markdown",
   "metadata": {},
   "source": [
    "**ANOVA** \\\n",
    "We will compare the two models Net_trade vs Time to Net_trade vs Time + Total_rnd + Net_financial_account."
   ]
  },
  {
   "cell_type": "code",
   "execution_count": null,
   "metadata": {},
   "outputs": [],
   "source": [
    "import statsmodels.api as sm\n",
    "from statsmodels.formula.api import ols\n",
    "import pandas as pd\n",
    "\n",
    "# Assuming df is your DataFrame and has the columns 'Net_trade', 'Total_rnd', 'Net_financial_account', and 'Year'\n",
    "df.rename(columns={\n",
    "    'Net trade in goods and services (BoP, current US$)': 'Net_trade_in_goods_and_services',\n",
    "    'Net financial account (BoP, current US$)': 'Net_financial_account',\n",
    "    'R&D expenditure(USD,million)': 'RND_expenditure'\n",
    "}, inplace=True)\n",
    "\n",
    "# Fit the reduced model with only the Year variable\n",
    "model1 = ols('Net_trade_in_goods_and_services ~ Year', data=df).fit()\n",
    "\n",
    "# Fit the full model with Year, Total_rnd, and Net_financial_account\n",
    "model2 = ols('Net_trade_in_goods_and_services ~ Year + RND_expenditure + Net_financial_account', data=df).fit()\n",
    "\n",
    "# Perform ANOVA\n",
    "anova_results = sm.stats.anova_lm(model1, model2)\n",
    "\n",
    "print(anova_results)"
   ]
  },
  {
   "cell_type": "markdown",
   "metadata": {},
   "source": [
    "Summary:\n",
    "The reduced model (with only the Year variable) explains some of the variance in the dependent variable (Net_trade_in_goods_and_services), but leaves a large amount of unexplained variance.\n",
    "The full model (with Year, RND_expenditure, and Net_financial_account) significantly improves the model by reducing the sum of squared residuals, showing that the additional variables have a strong explanatory power.\n",
    "The F-statistic of 20.28 and the p-value of 0.000204 indicate that this improvement is statistically significant.\n",
    "In short, adding the two additional variables (R&D expenditure and Net financial account) significantly improves the model's ability to explain the dependent variable (Net_trade_in_goods_and_services)."
   ]
  },
  {
   "cell_type": "markdown",
   "metadata": {},
   "source": [
    "**ANCOVA for 3 countries**"
   ]
  },
  {
   "cell_type": "code",
   "execution_count": null,
   "metadata": {},
   "outputs": [],
   "source": [
    "# Rename 'RND_Expenditure' column in each country-specific DataFrame\n",
    "df_sg.rename(columns={'Total_rnd': 'RND_expenditure'}, inplace=True)\n",
    "df_jp.rename(columns={'RND_Expenditure': 'RND_expenditure'}, inplace=True)\n",
    "df_hk.rename(columns={'R&D expenditure(USD,million)': 'RND_expenditure'}, inplace=True)\n",
    "\n",
    "df_sg.rename(columns={\n",
    "    'Net trade in goods and services (BoP, current US$)': 'Net_trade_in_goods_and_services',\n",
    "    'Net financial account (BoP, current US$)': 'Net_financial_account',\n",
    "}, inplace=True)\n",
    "\n",
    "df_hk.rename(columns={\n",
    "    'Net trade in goods and services (BoP, current US$)': 'Net_trade_in_goods_and_services',\n",
    "    'Net financial account (BoP, current US$)': 'Net_financial_account',\n",
    "}, inplace=True)\n",
    "\n",
    "df_jp.rename(columns={\n",
    "    'Net trade in goods and services (BoP, current US$)': 'Net_trade_in_goods_and_services',\n",
    "    'Net financial account (BoP, current US$)': 'Net_financial_account',\n",
    "}, inplace=True)\n",
    "\n",
    "# Combine the DataFrames and add a 'Country' column\n",
    "df_sg['Country'] = 'Singapore'\n",
    "df_jp['Country'] = 'Japan'\n",
    "df_hk['Country'] = 'Hong_Kong'\n",
    "\n",
    "combined_df = pd.concat([df_sg, df_jp, df_hk])\n",
    "\n",
    "# Now perform ANCOVA as previously described\n",
    "import statsmodels.api as sm\n",
    "from statsmodels.formula.api import ols\n",
    "\n",
    "ancova_model = ols('Net_trade_in_goods_and_services ~ Year + RND_expenditure + Net_financial_account + Country + Year:Country + RND_expenditure:Country + Net_financial_account:Country', data=combined_df).fit()\n",
    "anova_results = sm.stats.anova_lm(ancova_model, typ=2)\n",
    "\n",
    "print(anova_results)\n"
   ]
  },
  {
   "cell_type": "markdown",
   "metadata": {},
   "source": [
    "The ANCOVA (Analysis of Covariance) results you provided are testing several factors that may influence net trade across different countries over time, while controlling for the effects of covariates (like R&D expenditure and net financial account). Here’s a summary of what each component is examining:\n",
    "\n",
    "Country Effect: The significant F-value (66.18) and low p-value (1.89e-12) for the Country factor suggest that net trade varies significantly among the three countries in your analysis. This indicates that the country itself has a strong influence on net trade.\n",
    "\n",
    "Year Effect: The effect of Year has a significant F-value (6.69) and a p-value (0.014) that is less than the conventional threshold of 0.05, suggesting that there are significant changes in net trade over the years being studied.\n",
    "\n",
    "Interaction Effects:\n",
    "\n",
    "Year\n",
    ": The interaction between Year and Country (F = 3.06, p = 0.060) indicates that the change in net trade over time may differ between countries. While the p-value is slightly above 0.05, it suggests that there might be a trend worth exploring further.\n",
    "RND_expenditure and RND_expenditure\n",
    ": The R&D expenditure's main effect and its interaction with Country both have high p-values (0.140 and 0.465, respectively), suggesting that they do not have a significant impact on net trade when controlling for other factors.\n",
    "Net Financial Account: The strong significance (F = 120.02, p = 1.07e-12) indicates that the net financial account has a profound effect on net trade, reinforcing the idea that financial factors are crucial in trade analysis.\n",
    "\n",
    "Overall, this ANCOVA shows that both the country and the net financial account are significant predictors of net trade, while the influence of R&D expenditure and its interaction with countries does not appear to be statistically significant. The findings imply that while R&D expenditure is an important factor, its direct effect on net trade may be overshadowed by country-specific characteristics and financial accounts."
   ]
  },
  {
   "cell_type": "markdown",
   "metadata": {},
   "source": [
    "In summary:\n",
    "Country and Net_financial_account are the most significant predictors.\n",
    "Year has a significant, but smaller, effect.\n",
    "The interaction between Year and Country is borderline, hinting that net trade trends may vary somewhat between countries over time.\n",
    "R&D expenditure and its interactions are not significant, suggesting it has a weaker influence on net trade in this model."
   ]
  },
  {
   "cell_type": "code",
   "execution_count": null,
   "metadata": {},
   "outputs": [],
   "source": []
  }
 ],
 "metadata": {
  "kernelspec": {
   "display_name": "Python 3 (ipykernel)",
   "language": "python",
   "name": "python3"
  },
  "language_info": {
   "codemirror_mode": {
    "name": "ipython",
    "version": 3
   },
   "file_extension": ".py",
   "mimetype": "text/x-python",
   "name": "python",
   "nbconvert_exporter": "python",
   "pygments_lexer": "ipython3",
   "version": "3.10.11"
  }
 },
 "nbformat": 4,
 "nbformat_minor": 2
}
